{
 "cells": [
  {
   "cell_type": "markdown",
   "metadata": {},
   "source": [
    "# Exercises Part I\n",
    "\n",
    "### Make a file named pandas_series.py or pandas_series.ipynb for the following exercises.\n",
    "\n",
    "### Use pandas to create a Series named fruits from the following list:\n",
    "\n",
    "###     [\"kiwi\", \"mango\", \"strawberry\", \"pineapple\", \"gala apple\", \"honeycrisp apple\", \"tomato\", \"watermelon\", \"honeydew\", \"kiwi\", \"kiwi\", \"kiwi\", \"mango\", \"blueberry\", \"blackberry\", \"gooseberry\", \"papaya\"]\n",
    "\n",
    "### Use Series attributes and methods to explore your fruits Series."
   ]
  },
  {
   "cell_type": "code",
   "execution_count": 34,
   "metadata": {},
   "outputs": [
    {
     "data": {
      "text/plain": [
       "pandas.core.series.Series"
      ]
     },
     "execution_count": 34,
     "metadata": {},
     "output_type": "execute_result"
    }
   ],
   "source": [
    "import pandas as pd\n",
    "\n",
    "fruits = pd.Series([\"kiwi\", \"mango\", \"strawberry\", \"pineapple\", \"gala apple\", \"honeycrisp apple\", \"tomato\", \"watermelon\", \"honeydew\", \"kiwi\", \"kiwi\", \"kiwi\", \"mango\", \"blueberry\", \"blackberry\", \"gooseberry\", \"papaya\"])\n",
    "type(fruits)"
   ]
  },
  {
   "cell_type": "code",
   "execution_count": 24,
   "metadata": {},
   "outputs": [
    {
     "data": {
      "text/plain": [
       "17"
      ]
     },
     "execution_count": 24,
     "metadata": {},
     "output_type": "execute_result"
    }
   ],
   "source": [
    "# 1. Determine the number of elements in fruits.\n",
    "\n",
    "fruits.size"
   ]
  },
  {
   "cell_type": "code",
   "execution_count": 48,
   "metadata": {},
   "outputs": [
    {
     "data": {
      "text/plain": [
       "[0, 1, 2, 3, 4, 5, 6, 7, 8, 9, 10, 11, 12, 13, 14, 15, 16]"
      ]
     },
     "execution_count": 48,
     "metadata": {},
     "output_type": "execute_result"
    }
   ],
   "source": [
    "# 2. Output only the index from fruits.\n",
    "\n",
    "list(fruits.index)"
   ]
  },
  {
   "cell_type": "code",
   "execution_count": 26,
   "metadata": {},
   "outputs": [
    {
     "data": {
      "text/plain": [
       "array(['kiwi', 'mango', 'strawberry', 'pineapple', 'gala apple',\n",
       "       'honeycrisp apple', 'tomato', 'watermelon', 'honeydew', 'kiwi',\n",
       "       'kiwi', 'kiwi', 'mango', 'blueberry', 'blackberry', 'gooseberry',\n",
       "       'papaya'], dtype=object)"
      ]
     },
     "execution_count": 26,
     "metadata": {},
     "output_type": "execute_result"
    }
   ],
   "source": [
    "# 3. Output only the values from fruits.\n",
    "\n",
    "fruits.values"
   ]
  },
  {
   "cell_type": "code",
   "execution_count": 47,
   "metadata": {},
   "outputs": [
    {
     "data": {
      "text/plain": [
       "dtype('O')"
      ]
     },
     "execution_count": 47,
     "metadata": {},
     "output_type": "execute_result"
    }
   ],
   "source": [
    "# 4. Confirm the data type of the values in fruits.\n",
    "\n",
    "fruits.dtype"
   ]
  },
  {
   "cell_type": "code",
   "execution_count": 28,
   "metadata": {},
   "outputs": [
    {
     "data": {
      "text/plain": [
       "0          kiwi\n",
       "1         mango\n",
       "2    strawberry\n",
       "3     pineapple\n",
       "4    gala apple\n",
       "dtype: object"
      ]
     },
     "execution_count": 28,
     "metadata": {},
     "output_type": "execute_result"
    }
   ],
   "source": [
    "# 5. Output only the first five values from fruits. Output the last \n",
    "# three values. Output two random values from fruits.\n",
    "\n",
    "fruits.head()"
   ]
  },
  {
   "cell_type": "code",
   "execution_count": 29,
   "metadata": {},
   "outputs": [
    {
     "data": {
      "text/plain": [
       "14    blackberry\n",
       "15    gooseberry\n",
       "16        papaya\n",
       "dtype: object"
      ]
     },
     "execution_count": 29,
     "metadata": {},
     "output_type": "execute_result"
    }
   ],
   "source": [
    "fruits.tail(3)"
   ]
  },
  {
   "cell_type": "code",
   "execution_count": 30,
   "metadata": {},
   "outputs": [
    {
     "data": {
      "text/plain": [
       "8     honeydew\n",
       "16      papaya\n",
       "dtype: object"
      ]
     },
     "execution_count": 30,
     "metadata": {},
     "output_type": "execute_result"
    }
   ],
   "source": [
    "fruits.sample(2)"
   ]
  },
  {
   "cell_type": "code",
   "execution_count": 31,
   "metadata": {},
   "outputs": [
    {
     "data": {
      "text/plain": [
       "count       17\n",
       "unique      13\n",
       "top       kiwi\n",
       "freq         4\n",
       "dtype: object"
      ]
     },
     "execution_count": 31,
     "metadata": {},
     "output_type": "execute_result"
    }
   ],
   "source": [
    "# 6. Run the .describe() on fruits to see what information it returns \n",
    "# when called on a Series with string values.\n",
    "\n",
    "fruits.describe()"
   ]
  },
  {
   "cell_type": "code",
   "execution_count": 18,
   "metadata": {},
   "outputs": [
    {
     "data": {
      "text/plain": [
       "array(['kiwi', 'mango', 'strawberry', 'pineapple', 'gala apple',\n",
       "       'honeycrisp apple', 'tomato', 'watermelon', 'honeydew',\n",
       "       'blueberry', 'blackberry', 'gooseberry', 'papaya'], dtype=object)"
      ]
     },
     "execution_count": 18,
     "metadata": {},
     "output_type": "execute_result"
    }
   ],
   "source": [
    "# 7. Run the code necessary to produce only the unique string values \n",
    "# from fruits.\n",
    "\n",
    "fruits.unique()"
   ]
  },
  {
   "cell_type": "code",
   "execution_count": 16,
   "metadata": {},
   "outputs": [
    {
     "data": {
      "text/plain": [
       "kiwi                4\n",
       "mango               2\n",
       "watermelon          1\n",
       "pineapple           1\n",
       "gooseberry          1\n",
       "papaya              1\n",
       "strawberry          1\n",
       "blueberry           1\n",
       "honeycrisp apple    1\n",
       "gala apple          1\n",
       "tomato              1\n",
       "blackberry          1\n",
       "honeydew            1\n",
       "dtype: int64"
      ]
     },
     "execution_count": 16,
     "metadata": {},
     "output_type": "execute_result"
    }
   ],
   "source": [
    "# 8. Determine how many times each unique string value occurs in \n",
    "# fruits.\n",
    "\n",
    "fruits.value_counts()"
   ]
  },
  {
   "cell_type": "code",
   "execution_count": 21,
   "metadata": {},
   "outputs": [
    {
     "data": {
      "text/plain": [
       "kiwi    4\n",
       "dtype: int64"
      ]
     },
     "execution_count": 21,
     "metadata": {},
     "output_type": "execute_result"
    }
   ],
   "source": [
    "# 9. Determine the string value that occurs most frequently in fruits.\n",
    "\n",
    "fruits.value_counts().nlargest(n=1)"
   ]
  },
  {
   "cell_type": "code",
   "execution_count": 32,
   "metadata": {},
   "outputs": [
    {
     "data": {
      "text/plain": [
       "watermelon          1\n",
       "pineapple           1\n",
       "gooseberry          1\n",
       "papaya              1\n",
       "strawberry          1\n",
       "blueberry           1\n",
       "honeycrisp apple    1\n",
       "gala apple          1\n",
       "tomato              1\n",
       "blackberry          1\n",
       "honeydew            1\n",
       "dtype: int64"
      ]
     },
     "execution_count": 32,
     "metadata": {},
     "output_type": "execute_result"
    }
   ],
   "source": [
    "# 10. Determine the string value that occurs least frequently in \n",
    "# fruits.\n",
    "\n",
    "fruits.value_counts().nsmallest(n=1, keep='all')"
   ]
  },
  {
   "cell_type": "markdown",
   "metadata": {},
   "source": [
    "# Exercises Part II\n",
    "\n",
    "## Explore more attributes and methods while you continue to work with the fruits Series."
   ]
  },
  {
   "cell_type": "code",
   "execution_count": 39,
   "metadata": {},
   "outputs": [
    {
     "data": {
      "text/plain": [
       "0                 Kiwi\n",
       "1                Mango\n",
       "2           Strawberry\n",
       "3            Pineapple\n",
       "4           Gala Apple\n",
       "5     Honeycrisp Apple\n",
       "6               Tomato\n",
       "7           Watermelon\n",
       "8             Honeydew\n",
       "9                 Kiwi\n",
       "10                Kiwi\n",
       "11                Kiwi\n",
       "12               Mango\n",
       "13           Blueberry\n",
       "14          Blackberry\n",
       "15          Gooseberry\n",
       "16              Papaya\n",
       "dtype: object"
      ]
     },
     "execution_count": 39,
     "metadata": {},
     "output_type": "execute_result"
    }
   ],
   "source": [
    "# 1. Capitalize all the string values in fruits.\n",
    "\n",
    "fruits.str.title()"
   ]
  },
  {
   "cell_type": "code",
   "execution_count": 119,
   "metadata": {},
   "outputs": [
    {
     "data": {
      "text/plain": [
       "14"
      ]
     },
     "execution_count": 119,
     "metadata": {},
     "output_type": "execute_result"
    }
   ],
   "source": [
    "# 2. Count the letter \"a\" in all the string values (use string \n",
    "# vectorization).\n",
    "\n",
    "fruits.str.count('a').sum()"
   ]
  },
  {
   "cell_type": "code",
   "execution_count": 120,
   "metadata": {},
   "outputs": [
    {
     "data": {
      "text/plain": [
       "0     2\n",
       "1     2\n",
       "2     2\n",
       "3     4\n",
       "4     4\n",
       "5     5\n",
       "6     3\n",
       "7     4\n",
       "8     3\n",
       "9     2\n",
       "10    2\n",
       "11    2\n",
       "12    2\n",
       "13    3\n",
       "14    2\n",
       "15    4\n",
       "16    3\n",
       "dtype: int64"
      ]
     },
     "execution_count": 120,
     "metadata": {},
     "output_type": "execute_result"
    }
   ],
   "source": [
    "# 3. Output the number of vowels in each and every string value.\n",
    "\n",
    "def vowel_count(word):\n",
    "    return len([letter for letter in word if letter in list('aeiou')])\n",
    "\n",
    "fruits.apply(vowel_count)"
   ]
  },
  {
   "cell_type": "code",
   "execution_count": 71,
   "metadata": {},
   "outputs": [
    {
     "data": {
      "text/plain": [
       "'honeycrisp apple'"
      ]
     },
     "execution_count": 71,
     "metadata": {},
     "output_type": "execute_result"
    }
   ],
   "source": [
    "# 4. Write the code to get the longest string value from fruits.\n",
    "\n",
    "fruits[fruits.str.len().idxmax()]"
   ]
  },
  {
   "cell_type": "code",
   "execution_count": 74,
   "metadata": {},
   "outputs": [
    {
     "data": {
      "text/plain": [
       "1                mango\n",
       "2           strawberry\n",
       "3            pineapple\n",
       "4           gala apple\n",
       "5     honeycrisp apple\n",
       "6               tomato\n",
       "7           watermelon\n",
       "8             honeydew\n",
       "12               mango\n",
       "13           blueberry\n",
       "14          blackberry\n",
       "15          gooseberry\n",
       "16              papaya\n",
       "dtype: object"
      ]
     },
     "execution_count": 74,
     "metadata": {},
     "output_type": "execute_result"
    }
   ],
   "source": [
    "# 5. Write the code to get the string values with 5 or more letters \n",
    "# in the name.\n",
    "\n",
    "fruits[fruits.str.len() >= 5]"
   ]
  },
  {
   "cell_type": "code",
   "execution_count": 90,
   "metadata": {},
   "outputs": [
    {
     "data": {
      "text/plain": [
       "6         tomato\n",
       "15    gooseberry\n",
       "dtype: object"
      ]
     },
     "execution_count": 90,
     "metadata": {},
     "output_type": "execute_result"
    }
   ],
   "source": [
    "# 6. Use the .apply method with a lambda function to find the \n",
    "# fruit(s) containing the letter \"o\" two or more times.\n",
    "\n",
    "fruits[fruits.apply(lambda fruit: fruit.count('o') >= 2)]"
   ]
  },
  {
   "cell_type": "code",
   "execution_count": 92,
   "metadata": {},
   "outputs": [
    {
     "data": {
      "text/plain": [
       "2     strawberry\n",
       "13     blueberry\n",
       "14    blackberry\n",
       "15    gooseberry\n",
       "dtype: object"
      ]
     },
     "execution_count": 92,
     "metadata": {},
     "output_type": "execute_result"
    }
   ],
   "source": [
    "# 7. Write the code to get only the string values containing the \n",
    "# substring \"berry\".\n",
    "\n",
    "fruits[fruits.str.contains('berry')]"
   ]
  },
  {
   "cell_type": "code",
   "execution_count": 93,
   "metadata": {},
   "outputs": [
    {
     "data": {
      "text/plain": [
       "3           pineapple\n",
       "4          gala apple\n",
       "5    honeycrisp apple\n",
       "dtype: object"
      ]
     },
     "execution_count": 93,
     "metadata": {},
     "output_type": "execute_result"
    }
   ],
   "source": [
    "# 8. Write the code to get only the string values containing the \n",
    "# substring \"apple\".\n",
    "\n",
    "fruits[fruits.str.contains('apple')]"
   ]
  },
  {
   "cell_type": "code",
   "execution_count": 97,
   "metadata": {},
   "outputs": [
    {
     "data": {
      "text/plain": [
       "'honeycrisp apple'"
      ]
     },
     "execution_count": 97,
     "metadata": {},
     "output_type": "execute_result"
    }
   ],
   "source": [
    "# 9. Which string value contains the most vowels?\n",
    "\n",
    "def vowel_count(word):\n",
    "    return len([letter for letter in word if letter in list('aeiou')])\n",
    "\n",
    "fruits[fruits.apply(vowel_count).idxmax()]"
   ]
  },
  {
   "cell_type": "markdown",
   "metadata": {},
   "source": [
    "# Exercises Part III\n",
    "\n",
    "## Use pandas to create a Series named letters from the following string:\n",
    "\n",
    "##     'hnvidduckkqxwymbimkccexbkmqygkxoyndmcxnwqarhyffsjpsrabtjzsypmzadfavyrnndndvswreauxovncxtwzpwejilzjrmmbbgbyxvjtewqthafnbkqplarokkyydtubbmnexoypulzwfhqvckdpqtpoppzqrmcvhhpwgjwupgzhiofohawytlsiyecuproguy'"
   ]
  },
  {
   "cell_type": "code",
   "execution_count": 112,
   "metadata": {},
   "outputs": [],
   "source": [
    "letters = 'hnvidduckkqxwymbimkccexbkmqygkxoyndmcxnwqarhyffsjpsrabtjzsypmzadfavyrnndndvswreauxovncxtwzpwejilzjrmmbbgbyxvjtewqthafnbkqplarokkyydtubbmnexoypulzwfhqvckdpqtpoppzqrmcvhhpwgjwupgzhiofohawytlsiyecuproguy'"
   ]
  },
  {
   "cell_type": "code",
   "execution_count": 126,
   "metadata": {},
   "outputs": [
    {
     "data": {
      "text/plain": [
       "pandas.core.series.Series"
      ]
     },
     "execution_count": 126,
     "metadata": {},
     "output_type": "execute_result"
    }
   ],
   "source": [
    "letter_list = list(letters)\n",
    "letters = pd.Series(letter_list)\n",
    "type(letters)"
   ]
  },
  {
   "cell_type": "code",
   "execution_count": 116,
   "metadata": {},
   "outputs": [
    {
     "data": {
      "text/plain": [
       "y    13\n",
       "dtype: int64"
      ]
     },
     "execution_count": 116,
     "metadata": {},
     "output_type": "execute_result"
    }
   ],
   "source": [
    "letters.value_counts().nlargest(1)"
   ]
  },
  {
   "cell_type": "code",
   "execution_count": 117,
   "metadata": {},
   "outputs": [
    {
     "data": {
      "text/plain": [
       "l    4\n",
       "dtype: int64"
      ]
     },
     "execution_count": 117,
     "metadata": {},
     "output_type": "execute_result"
    }
   ],
   "source": [
    "letters.value_counts().nsmallest(1)"
   ]
  },
  {
   "cell_type": "code",
   "execution_count": 127,
   "metadata": {},
   "outputs": [
    {
     "data": {
      "text/plain": [
       "34"
      ]
     },
     "execution_count": 127,
     "metadata": {},
     "output_type": "execute_result"
    }
   ],
   "source": [
    "letters.str.count('[aeiou]').sum()"
   ]
  },
  {
   "cell_type": "code",
   "execution_count": 133,
   "metadata": {},
   "outputs": [
    {
     "data": {
      "text/plain": [
       "166"
      ]
     },
     "execution_count": 133,
     "metadata": {},
     "output_type": "execute_result"
    }
   ],
   "source": [
    "(~letters.isin(['a', 'e', 'i', 'o', 'u'])).sum()"
   ]
  },
  {
   "cell_type": "code",
   "execution_count": 140,
   "metadata": {},
   "outputs": [
    {
     "data": {
      "image/png": "[encoded data removed]",
      "text/plain": [
       "<Figure size 432x288 with 1 Axes>"
      ]
     },
     "metadata": {
      "needs_background": "light"
     },
     "output_type": "display_data"
    }
   ],
   "source": [
    "import matplotlib.pyplot as plt\n",
    "\n",
    "letters.value_counts().nlargest(6).plot.bar(rot=0)\n",
    "\n",
    "plt.show()"
   ]
  },
  {
   "cell_type": "code",
   "execution_count": null,
   "metadata": {},
   "outputs": [],
   "source": [
    "## Use pandas to create a Series named numbers from the following list:\n",
    "\n",
    "##     ['$796,459.41', '$278.60', '$482,571.67', '$4,503,915.98', '$2,121,418.3', '$1,260,813.3', '$87,231.01', '$1,509,175.45', '$4,138,548.00', '$2,848,913.80', '$594,715.39', '$4,789,988.17', '$4,513,644.5', '$3,191,059.97', '$1,758,712.24', '$4,338,283.54', '$4,738,303.38', '$2,791,759.67', '$769,681.94', '$452,650.23']"
   ]
  },
  {
   "cell_type": "code",
   "execution_count": 155,
   "metadata": {},
   "outputs": [
    {
     "data": {
      "text/plain": [
       "pandas.core.series.Series"
      ]
     },
     "execution_count": 155,
     "metadata": {},
     "output_type": "execute_result"
    }
   ],
   "source": [
    "numbers = pd.Series(['$796,459.41', '$278.60', '$482,571.67', '$4,503,915.98', '$2,121,418.3', '$1,260,813.3', '$87,231.01', '$1,509,175.45', '$4,138,548.00', '$2,848,913.80', '$594,715.39', '$4,789,988.17', '$4,513,644.5', '$3,191,059.97', '$1,758,712.24', '$4,338,283.54', '$4,738,303.38', '$2,791,759.67', '$769,681.94', '$452,650.23'])\n",
    "type(numbers)"
   ]
  },
  {
   "cell_type": "code",
   "execution_count": 142,
   "metadata": {},
   "outputs": [
    {
     "data": {
      "text/plain": [
       "dtype('O')"
      ]
     },
     "execution_count": 142,
     "metadata": {},
     "output_type": "execute_result"
    }
   ],
   "source": [
    "numbers.dtype"
   ]
  },
  {
   "cell_type": "code",
   "execution_count": 143,
   "metadata": {},
   "outputs": [
    {
     "data": {
      "text/plain": [
       "20"
      ]
     },
     "execution_count": 143,
     "metadata": {},
     "output_type": "execute_result"
    }
   ],
   "source": [
    "numbers.size"
   ]
  },
  {
   "cell_type": "code",
   "execution_count": 158,
   "metadata": {},
   "outputs": [
    {
     "data": {
      "text/plain": [
       "0      796459.41\n",
       "1         278.60\n",
       "2      482571.67\n",
       "3     4503915.98\n",
       "4     2121418.30\n",
       "5     1260813.30\n",
       "6       87231.01\n",
       "7     1509175.45\n",
       "8     4138548.00\n",
       "9     2848913.80\n",
       "10     594715.39\n",
       "11    4789988.17\n",
       "12    4513644.50\n",
       "13    3191059.97\n",
       "14    1758712.24\n",
       "15    4338283.54\n",
       "16    4738303.38\n",
       "17    2791759.67\n",
       "18     769681.94\n",
       "19     452650.23\n",
       "dtype: float64"
      ]
     },
     "execution_count": 158,
     "metadata": {},
     "output_type": "execute_result"
    }
   ],
   "source": [
    "new_numbers = numbers.str.replace('$', '').str.replace(',', '').astype(float)\n",
    "new_numbers"
   ]
  },
  {
   "cell_type": "code",
   "execution_count": 159,
   "metadata": {},
   "outputs": [
    {
     "data": {
      "text/plain": [
       "4789988.17"
      ]
     },
     "execution_count": 159,
     "metadata": {},
     "output_type": "execute_result"
    }
   ],
   "source": [
    "new_numbers.max()"
   ]
  },
  {
   "cell_type": "code",
   "execution_count": 160,
   "metadata": {},
   "outputs": [
    {
     "data": {
      "text/plain": [
       "278.6"
      ]
     },
     "execution_count": 160,
     "metadata": {},
     "output_type": "execute_result"
    }
   ],
   "source": [
    "new_numbers.min()"
   ]
  },
  {
   "cell_type": "code",
   "execution_count": 163,
   "metadata": {},
   "outputs": [
    {
     "data": {
      "text/plain": [
       "4789709.57"
      ]
     },
     "execution_count": 163,
     "metadata": {},
     "output_type": "execute_result"
    }
   ],
   "source": [
    "new_numbers.max() - new_numbers.min()"
   ]
  },
  {
   "cell_type": "code",
   "execution_count": 190,
   "metadata": {},
   "outputs": [
    {
     "data": {
      "text/plain": [
       "(-4511.11, 1197705.993]       7\n",
       "(3592560.778, 4789988.17]     6\n",
       "(1197705.993, 2395133.385]    4\n",
       "(2395133.385, 3592560.778]    3\n",
       "dtype: int64"
      ]
     },
     "execution_count": 190,
     "metadata": {},
     "output_type": "execute_result"
    }
   ],
   "source": [
    "pd.cut(new_numbers, 4).value_counts()"
   ]
  },
  {
   "cell_type": "code",
   "execution_count": 189,
   "metadata": {},
   "outputs": [
    {
     "data": {
      "image/png": "[encoded data removed]",
      "text/plain": [
       "<Figure size 432x288 with 1 Axes>"
      ]
     },
     "metadata": {
      "needs_background": "light"
     },
     "output_type": "display_data"
    }
   ],
   "source": [
    "pd.cut(new_numbers, 4).value_counts(sort=False).plot.barh()\n",
    "\n",
    "plt.title('Example Pandas Visualization')\n",
    "plt.xticks(rotation = 0)\n",
    "plt.xlabel('Frequency')\n",
    "plt.ylabel('Numbers')\n",
    "\n",
    "plt.show()"
   ]
  },
  {
   "cell_type": "code",
   "execution_count": null,
   "metadata": {},
   "outputs": [],
   "source": []
  }
 ],
 "metadata": {
  "kernelspec": {
   "display_name": "Python 3",
   "language": "python",
   "name": "python3"
  },
  "language_info": {
   "codemirror_mode": {
    "name": "ipython",
    "version": 3
   },
   "file_extension": ".py",
   "mimetype": "text/x-python",
   "name": "python",
   "nbconvert_exporter": "python",
   "pygments_lexer": "ipython3",
   "version": "3.8.5"
  }
 },
 "nbformat": 4,
 "nbformat_minor": 4
}
